{
  "nbformat": 4,
  "nbformat_minor": 0,
  "metadata": {
    "colab": {
      "provenance": []
    },
    "kernelspec": {
      "name": "python3",
      "display_name": "Python 3"
    },
    "language_info": {
      "name": "python"
    }
  },
  "cells": [
    {
      "cell_type": "code",
      "execution_count": null,
      "metadata": {
        "id": "Xgf45zvs4gC4"
      },
      "outputs": [],
      "source": [
        "import pandas as pd"
      ]
    },
    {
      "cell_type": "code",
      "source": [
        "spam_amount = 0\n",
        "print(spam_amount)\n",
        "\n",
        "# Ordering Spam, egg, Spam, Spam, bacon and Spam (4 more servings of Spam)\n",
        "spam_amount = spam_amount + 4\n",
        "\n",
        "if spam_amount > 0:\n",
        "    print(\"But I don't want ANY spam!\")\n",
        "\n",
        "viking_song = \"Spam \" * spam_amount\n",
        "print(viking_song)"
      ],
      "metadata": {
        "colab": {
          "base_uri": "https://localhost:8080/"
        },
        "id": "jZc9AEPU4noe",
        "outputId": "f9e0a5d8-e54f-44b4-83b2-9ff7817c99f5"
      },
      "execution_count": null,
      "outputs": [
        {
          "output_type": "stream",
          "name": "stdout",
          "text": [
            "0\n",
            "But I don't want ANY spam!\n",
            "Spam Spam Spam Spam \n"
          ]
        }
      ]
    },
    {
      "cell_type": "code",
      "source": [],
      "metadata": {
        "id": "iAaKxsI747W2"
      },
      "execution_count": null,
      "outputs": []
    }
  ]
}