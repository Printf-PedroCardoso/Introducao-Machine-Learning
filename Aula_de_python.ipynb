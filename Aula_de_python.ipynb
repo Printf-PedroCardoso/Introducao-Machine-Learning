{
  "nbformat": 4,
  "nbformat_minor": 0,
  "metadata": {
    "colab": {
      "provenance": []
    },
    "kernelspec": {
      "name": "python3",
      "display_name": "Python 3"
    },
    "language_info": {
      "name": "python"
    }
  },
  "cells": [
    {
      "cell_type": "code",
      "execution_count": null,
      "metadata": {
        "colab": {
          "base_uri": "https://localhost:8080/"
        },
        "id": "B54y2MPHdrLW",
        "outputId": "59d0aeb0-6aaa-40a0-e9bb-e17513b02135"
      },
      "outputs": [
        {
          "output_type": "stream",
          "name": "stdout",
          "text": [
            "Michel\n"
          ]
        }
      ],
      "source": [
        "nome = \"Michel\"\n",
        "print(nome)"
      ]
    },
    {
      "cell_type": "code",
      "source": [
        "nome = 'Guilherme'\n",
        "nome"
      ],
      "metadata": {
        "colab": {
          "base_uri": "https://localhost:8080/",
          "height": 36
        },
        "id": "kwOTpiCaljb7",
        "outputId": "d391f8d6-daa9-4ad9-9fa9-78b20ce125ca"
      },
      "execution_count": null,
      "outputs": [
        {
          "output_type": "execute_result",
          "data": {
            "text/plain": [
              "'Guilherme'"
            ],
            "application/vnd.google.colaboratory.intrinsic+json": {
              "type": "string"
            }
          },
          "metadata": {},
          "execution_count": 6
        }
      ]
    },
    {
      "cell_type": "code",
      "source": [
        "idade = 40"
      ],
      "metadata": {
        "id": "hqlZx6UUnCaj"
      },
      "execution_count": null,
      "outputs": []
    },
    {
      "cell_type": "code",
      "source": [
        "def mais_um_ano (idade):\n",
        "    print(\"ta dentro dessa dunção\")\n",
        "    return idade + 1"
      ],
      "metadata": {
        "id": "zV53blyK2lfo"
      },
      "execution_count": null,
      "outputs": []
    },
    {
      "cell_type": "code",
      "source": [
        "mais_um_ano(idade)"
      ],
      "metadata": {
        "colab": {
          "base_uri": "https://localhost:8080/"
        },
        "id": "R89KZ0Xo27of",
        "outputId": "a0dc4e06-e41c-43bf-d55f-04582bf95a34"
      },
      "execution_count": null,
      "outputs": [
        {
          "output_type": "stream",
          "name": "stdout",
          "text": [
            "ta dentro dessa dunção\n"
          ]
        },
        {
          "output_type": "execute_result",
          "data": {
            "text/plain": [
              "41"
            ]
          },
          "metadata": {},
          "execution_count": 10
        }
      ]
    },
    {
      "cell_type": "code",
      "source": [
        "filme1 = \"Toy Story 17\"\n",
        "filme2 = \"A Xuxa contra o Baixo Astral\"\n",
        "filme3 = \"Matrix 1\""
      ],
      "metadata": {
        "id": "0_sCK1Vk3ESn"
      },
      "execution_count": null,
      "outputs": []
    },
    {
      "cell_type": "code",
      "source": [
        "filmes = [\"Toy Story 17\", \"Xuxa contra o Baixo Astral\", \"Matrix 1\"]\n",
        "filmes"
      ],
      "metadata": {
        "colab": {
          "base_uri": "https://localhost:8080/"
        },
        "id": "Twf9w_L_3fgH",
        "outputId": "9ce785f0-eb61-4d37-c900-17ffdce99ce2"
      },
      "execution_count": null,
      "outputs": [
        {
          "output_type": "execute_result",
          "data": {
            "text/plain": [
              "['Toy Story 17', 'Xuxa contra o Baixo Astral', 'Matrix 1']"
            ]
          },
          "metadata": {},
          "execution_count": 12
        }
      ]
    },
    {
      "cell_type": "code",
      "source": [
        "filmes = [filme1, filme2, filme3]\n",
        "filmes"
      ],
      "metadata": {
        "colab": {
          "base_uri": "https://localhost:8080/"
        },
        "id": "Fib8H_753qkd",
        "outputId": "6e7aac50-7e66-419d-ef1e-5e6031989b8f"
      },
      "execution_count": null,
      "outputs": [
        {
          "output_type": "execute_result",
          "data": {
            "text/plain": [
              "['Toy Story 17', 'A Xuxa contra o Baixo Astral', 'Matrix 1']"
            ]
          },
          "metadata": {},
          "execution_count": 13
        }
      ]
    },
    {
      "cell_type": "code",
      "source": [
        "list()"
      ],
      "metadata": {
        "colab": {
          "base_uri": "https://localhost:8080/"
        },
        "id": "Fvb4aEzC3v6e",
        "outputId": "c5ff1c9d-5f1c-492c-d30c-2f10f8cf34b0"
      },
      "execution_count": null,
      "outputs": [
        {
          "output_type": "execute_result",
          "data": {
            "text/plain": [
              "[]"
            ]
          },
          "metadata": {},
          "execution_count": 14
        }
      ]
    },
    {
      "cell_type": "code",
      "source": [
        "def imprime_filmes (filmes_que_quero_imprimir):\n",
        "    print(\"A lista de filmes que eu tenho disponivel\")\n",
        "    print(filmes_que_quero_imprimir)\n"
      ],
      "metadata": {
        "id": "kqHx6k8U3yrM"
      },
      "execution_count": null,
      "outputs": []
    },
    {
      "cell_type": "code",
      "source": [
        "imprime_filmes(filmes)\n",
        "imprime_filmes(filmes)\n",
        "imprime_filmes(filmes)"
      ],
      "metadata": {
        "colab": {
          "base_uri": "https://localhost:8080/"
        },
        "id": "-rMSVbKl4DMd",
        "outputId": "76581f7e-6618-44dc-fcbb-28d04a9dd3f2"
      },
      "execution_count": null,
      "outputs": [
        {
          "output_type": "stream",
          "name": "stdout",
          "text": [
            "A lista de filmes que eu tenho disponivel\n",
            "['Toy Story 17', 'A Xuxa contra o Baixo Astral', 'Matrix 1']\n",
            "A lista de filmes que eu tenho disponivel\n",
            "['Toy Story 17', 'A Xuxa contra o Baixo Astral', 'Matrix 1']\n",
            "A lista de filmes que eu tenho disponivel\n",
            "['Toy Story 17', 'A Xuxa contra o Baixo Astral', 'Matrix 1']\n"
          ]
        }
      ]
    },
    {
      "cell_type": "code",
      "source": [
        "filmes[0]"
      ],
      "metadata": {
        "colab": {
          "base_uri": "https://localhost:8080/",
          "height": 36
        },
        "id": "Y_wVhdFl4HQ9",
        "outputId": "5799de9a-c359-4bd0-cd7e-fb66d102d5b9"
      },
      "execution_count": null,
      "outputs": [
        {
          "output_type": "execute_result",
          "data": {
            "text/plain": [
              "'Toy Story 17'"
            ],
            "application/vnd.google.colaboratory.intrinsic+json": {
              "type": "string"
            }
          },
          "metadata": {},
          "execution_count": 19
        }
      ]
    },
    {
      "cell_type": "code",
      "source": [
        "filmes[-1]"
      ],
      "metadata": {
        "colab": {
          "base_uri": "https://localhost:8080/",
          "height": 36
        },
        "id": "084TOzVG4LLt",
        "outputId": "7ecfcff6-f149-47db-fff1-a7c7085a9001"
      },
      "execution_count": null,
      "outputs": [
        {
          "output_type": "execute_result",
          "data": {
            "text/plain": [
              "'Matrix 1'"
            ],
            "application/vnd.google.colaboratory.intrinsic+json": {
              "type": "string"
            }
          },
          "metadata": {},
          "execution_count": 21
        }
      ]
    },
    {
      "cell_type": "code",
      "source": [
        "filmes[1:]"
      ],
      "metadata": {
        "colab": {
          "base_uri": "https://localhost:8080/"
        },
        "id": "IyOgckT64Zmu",
        "outputId": "211cb3b8-e233-4843-a95d-70ef84cc464d"
      },
      "execution_count": null,
      "outputs": [
        {
          "output_type": "execute_result",
          "data": {
            "text/plain": [
              "['A Xuxa contra o Baixo Astral', 'Matrix 1']"
            ]
          },
          "metadata": {},
          "execution_count": 23
        }
      ]
    },
    {
      "cell_type": "code",
      "source": [
        "filmes[-2:]"
      ],
      "metadata": {
        "colab": {
          "base_uri": "https://localhost:8080/"
        },
        "id": "MnLkresK4dRu",
        "outputId": "93c14128-bd76-426e-ac21-092c7413dfbc"
      },
      "execution_count": null,
      "outputs": [
        {
          "output_type": "execute_result",
          "data": {
            "text/plain": [
              "['A Xuxa contra o Baixo Astral', 'Matrix 1']"
            ]
          },
          "metadata": {},
          "execution_count": 25
        }
      ]
    },
    {
      "cell_type": "code",
      "source": [
        "for filme in filmes:\n",
        "  print(filme)\n",
        "  print(\"...\")\n",
        "print(\"Estou Fora\")"
      ],
      "metadata": {
        "colab": {
          "base_uri": "https://localhost:8080/"
        },
        "id": "gs0uB7jd4i_E",
        "outputId": "0ae614b5-460d-43ec-e54f-77a7fad8a56c"
      },
      "execution_count": null,
      "outputs": [
        {
          "output_type": "stream",
          "name": "stdout",
          "text": [
            "Toy Story 17\n",
            "...\n",
            "A Xuxa contra o Baixo Astral\n",
            "...\n",
            "Matrix 1\n",
            "...\n",
            "Estou Fora\n"
          ]
        }
      ]
    },
    {
      "cell_type": "code",
      "source": [
        "def imprime_filmes (filmes_que_quero_imprimir):\n",
        "    print(\"A lista de filmes que eu tenho disponivel\")\n",
        "    for filme in filmes_que_quero_imprimir:\n",
        "        print(filme)"
      ],
      "metadata": {
        "id": "O5B7jMGU5ras"
      },
      "execution_count": null,
      "outputs": []
    },
    {
      "cell_type": "code",
      "source": [
        "imprime_filmes(filmes)"
      ],
      "metadata": {
        "colab": {
          "base_uri": "https://localhost:8080/"
        },
        "id": "sGOOAfRH52l7",
        "outputId": "cdcf1d3e-eb08-47b9-cd13-55079eaf0c62"
      },
      "execution_count": null,
      "outputs": [
        {
          "output_type": "stream",
          "name": "stdout",
          "text": [
            "A lista de filmes que eu tenho disponivel\n",
            "Toy Story 17\n",
            "A Xuxa contra o Baixo Astral\n",
            "Matrix 1\n"
          ]
        }
      ]
    },
    {
      "cell_type": "code",
      "source": [
        "dados = {\"nome\" : \"Guilherme\",\n",
        "         \"idade\" : 37,\n",
        "         \"empresa\" : \"Alura\"}\n",
        "dados"
      ],
      "metadata": {
        "colab": {
          "base_uri": "https://localhost:8080/"
        },
        "id": "o1P7QQH956D0",
        "outputId": "072fdd7f-fe4b-4267-bff7-25a0e09e6a38"
      },
      "execution_count": null,
      "outputs": [
        {
          "output_type": "execute_result",
          "data": {
            "text/plain": [
              "{'nome': 'Guilherme', 'idade': 37, 'empresa': 'Alura'}"
            ]
          },
          "metadata": {},
          "execution_count": 7
        }
      ]
    },
    {
      "cell_type": "code",
      "source": [
        "dados[\"empresa\"]"
      ],
      "metadata": {
        "colab": {
          "base_uri": "https://localhost:8080/",
          "height": 36
        },
        "id": "d-LapEduibr5",
        "outputId": "e66ca8a9-8f43-4102-b716-be96ed3ac573"
      },
      "execution_count": null,
      "outputs": [
        {
          "output_type": "execute_result",
          "data": {
            "text/plain": [
              "'Alura'"
            ],
            "application/vnd.google.colaboratory.intrinsic+json": {
              "type": "string"
            }
          },
          "metadata": {},
          "execution_count": 12
        }
      ]
    }
  ]
}